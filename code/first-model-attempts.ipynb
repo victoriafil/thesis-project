{
 "cells": [
  {
   "cell_type": "code",
   "execution_count": 1,
   "metadata": {},
   "outputs": [
    {
     "name": "stderr",
     "output_type": "stream",
     "text": [
      "/home/gusfilvi@GU.GU.SE/.conda/envs/AICS/lib/python3.12/site-packages/tqdm/auto.py:21: TqdmWarning: IProgress not found. Please update jupyter and ipywidgets. See https://ipywidgets.readthedocs.io/en/stable/user_install.html\n",
      "  from .autonotebook import tqdm as notebook_tqdm\n"
     ]
    }
   ],
   "source": [
    "from datasets import load_dataset\n",
    "from PIL import Image\n",
    "import matplotlib.pyplot as plt\n",
    "import pandas as pd\n",
    "import torch\n",
    "from tqdm import tqdm"
   ]
  },
  {
   "cell_type": "code",
   "execution_count": 2,
   "metadata": {},
   "outputs": [
    {
     "name": "stdout",
     "output_type": "stream",
     "text": [
      "GPU 0: NVIDIA GeForce GTX 1080 Ti (UUID: GPU-d349604b-7056-49bb-42cf-c9d6fefab40a)\n",
      "GPU 1: NVIDIA GeForce GTX 1080 Ti (UUID: GPU-cb3041a3-8c48-0cbe-84ec-65646db1d19f)\n",
      "GPU 2: NVIDIA GeForce GTX 1080 Ti (UUID: GPU-900b1eb3-d0c3-b27b-cec8-0c31c86bf0e9)\n",
      "GPU 3: NVIDIA GeForce GTX 1080 Ti (UUID: GPU-1dbe66f4-c08c-4abe-14b9-af6c71af8407)\n"
     ]
    }
   ],
   "source": [
    "!nvidia-smi -L\n",
    "#!CUDA_VISIBLE_DEVICES=MIG-00992b28-9de1-5e60-993b-b31261914ee9"
   ]
  },
  {
   "cell_type": "code",
   "execution_count": 3,
   "metadata": {},
   "outputs": [
    {
     "data": {
      "text/plain": [
       "True"
      ]
     },
     "execution_count": 3,
     "metadata": {},
     "output_type": "execute_result"
    }
   ],
   "source": [
    "torch.cuda.is_available()"
   ]
  },
  {
   "cell_type": "code",
   "execution_count": 4,
   "metadata": {},
   "outputs": [],
   "source": [
    "IRFL_images = load_dataset(\"lampent/IRFL\", data_files='IRFL_images.zip')['train']"
   ]
  },
  {
   "cell_type": "code",
   "execution_count": 5,
   "metadata": {},
   "outputs": [
    {
     "data": {
      "text/html": [
       "<div>\n",
       "<style scoped>\n",
       "    .dataframe tbody tr th:only-of-type {\n",
       "        vertical-align: middle;\n",
       "    }\n",
       "\n",
       "    .dataframe tbody tr th {\n",
       "        vertical-align: top;\n",
       "    }\n",
       "\n",
       "    .dataframe thead th {\n",
       "        text-align: right;\n",
       "    }\n",
       "</style>\n",
       "<table border=\"1\" class=\"dataframe\">\n",
       "  <thead>\n",
       "    <tr style=\"text-align: right;\">\n",
       "      <th></th>\n",
       "      <th>phrase</th>\n",
       "      <th>figurative_type</th>\n",
       "      <th>source</th>\n",
       "      <th>uuid</th>\n",
       "      <th>category</th>\n",
       "      <th>theme</th>\n",
       "    </tr>\n",
       "  </thead>\n",
       "  <tbody>\n",
       "    <tr>\n",
       "      <th>0</th>\n",
       "      <td>a lion on the battlefield</td>\n",
       "      <td>metaphor</td>\n",
       "      <td>https://www.israelhayom.com/2022/03/01/ukraini...</td>\n",
       "      <td>1009925977381951166573538219201192200312184397...</td>\n",
       "      <td>Figurative</td>\n",
       "      <td>NaN</td>\n",
       "    </tr>\n",
       "    <tr>\n",
       "      <th>1</th>\n",
       "      <td>a lion on the battlefield</td>\n",
       "      <td>metaphor</td>\n",
       "      <td>https://www.army.mil/article/260659/soldier_fo...</td>\n",
       "      <td>1110158887118147260462183682336548897929003447...</td>\n",
       "      <td>Figurative</td>\n",
       "      <td>NaN</td>\n",
       "    </tr>\n",
       "    <tr>\n",
       "      <th>2</th>\n",
       "      <td>a lion on the battlefield</td>\n",
       "      <td>metaphor</td>\n",
       "      <td>https://www.spokesman.com/stories/2012/aug/03/...</td>\n",
       "      <td>1150022408148171978092024654350648179128902573...</td>\n",
       "      <td>Figurative</td>\n",
       "      <td>NaN</td>\n",
       "    </tr>\n",
       "    <tr>\n",
       "      <th>3</th>\n",
       "      <td>a lion on the battlefield</td>\n",
       "      <td>metaphor</td>\n",
       "      <td>https://www.theguardian.com/books/2016/feb/26/...</td>\n",
       "      <td>4334616426942719694991676075800911426738633635...</td>\n",
       "      <td>Figurative</td>\n",
       "      <td>NaN</td>\n",
       "    </tr>\n",
       "    <tr>\n",
       "      <th>4</th>\n",
       "      <td>a lion on the battlefield</td>\n",
       "      <td>metaphor</td>\n",
       "      <td>https://www.polygon.com/22396791/battlefield-6...</td>\n",
       "      <td>6641158141547602068103775945956449252322278422...</td>\n",
       "      <td>Figurative</td>\n",
       "      <td>NaN</td>\n",
       "    </tr>\n",
       "  </tbody>\n",
       "</table>\n",
       "</div>"
      ],
      "text/plain": [
       "                      phrase figurative_type  \\\n",
       "0  a lion on the battlefield        metaphor   \n",
       "1  a lion on the battlefield        metaphor   \n",
       "2  a lion on the battlefield        metaphor   \n",
       "3  a lion on the battlefield        metaphor   \n",
       "4  a lion on the battlefield        metaphor   \n",
       "\n",
       "                                              source  \\\n",
       "0  https://www.israelhayom.com/2022/03/01/ukraini...   \n",
       "1  https://www.army.mil/article/260659/soldier_fo...   \n",
       "2  https://www.spokesman.com/stories/2012/aug/03/...   \n",
       "3  https://www.theguardian.com/books/2016/feb/26/...   \n",
       "4  https://www.polygon.com/22396791/battlefield-6...   \n",
       "\n",
       "                                                uuid    category  theme  \n",
       "0  1009925977381951166573538219201192200312184397...  Figurative    NaN  \n",
       "1  1110158887118147260462183682336548897929003447...  Figurative    NaN  \n",
       "2  1150022408148171978092024654350648179128902573...  Figurative    NaN  \n",
       "3  4334616426942719694991676075800911426738633635...  Figurative    NaN  \n",
       "4  6641158141547602068103775945956449252322278422...  Figurative    NaN  "
      ]
     },
     "execution_count": 5,
     "metadata": {},
     "output_type": "execute_result"
    }
   ],
   "source": [
    "IRFL_metaphors_dataset = load_dataset(\"lampent/IRFL\", 'metaphors-dataset')['dataset']\n",
    "pd.DataFrame(IRFL_metaphors_dataset).head()"
   ]
  },
  {
   "cell_type": "code",
   "execution_count": 6,
   "metadata": {},
   "outputs": [],
   "source": [
    "# Use this function for local run\n",
    "def get_image_path_from_folder(image_name):\n",
    "  image_folder_path = r'C:\\devel\\IRLM\\assets\\D_images'\n",
    "  return f'{image_folder_path}\\\\{image_name.split(\".\")[0] + \".jpeg\"}'\n",
    "\n",
    "def get_image_path_from_hugginface_cache(image_name):\n",
    "    chached_image_path = IRFL_images[0]['image'].filename\n",
    "    chached_image_name = chached_image_path.split('/')[-1]\n",
    "    return chached_image_path.replace(chached_image_name, str(image_name).split('.')[0] + '.jpeg')\n",
    "\n",
    "def get_image(image_name):\n",
    "  image_path = get_image_path_from_hugginface_cache(image_name)\n",
    "  return Image.open(image_path)\n",
    "\n",
    "# Preference task\n",
    "IRFL_idiom_retrieval_task = load_dataset(\"lampent/IRFL\", 'idiom-retrieval-task')[\"test\"]\n",
    "IRFL_metaphor_retrieval_task = load_dataset(\"lampent/IRFL\", 'metaphor-retrieval-task')[\"test\"]\n",
    "IRFL_simile_retrieval_task = load_dataset(\"lampent/IRFL\", 'simile-retrieval-task')[\"test\"]\n",
    "IRFL_open_simile_retrieval_task = load_dataset(\"lampent/IRFL\", 'open-simile-retrieval-task')[\"test\"]"
   ]
  },
  {
   "cell_type": "code",
   "execution_count": 7,
   "metadata": {},
   "outputs": [
    {
     "data": {
      "text/html": [
       "<div>\n",
       "<style scoped>\n",
       "    .dataframe tbody tr th:only-of-type {\n",
       "        vertical-align: middle;\n",
       "    }\n",
       "\n",
       "    .dataframe tbody tr th {\n",
       "        vertical-align: top;\n",
       "    }\n",
       "\n",
       "    .dataframe thead th {\n",
       "        text-align: right;\n",
       "    }\n",
       "</style>\n",
       "<table border=\"1\" class=\"dataframe\">\n",
       "  <thead>\n",
       "    <tr style=\"text-align: right;\">\n",
       "      <th></th>\n",
       "      <th>type</th>\n",
       "      <th>figurative_type</th>\n",
       "      <th>images_metadata</th>\n",
       "      <th>first_category</th>\n",
       "      <th>second_category</th>\n",
       "      <th>phrase</th>\n",
       "    </tr>\n",
       "  </thead>\n",
       "  <tbody>\n",
       "    <tr>\n",
       "      <th>0</th>\n",
       "      <td>FvsPL</td>\n",
       "      <td>metaphor</td>\n",
       "      <td>[{\"source\": \"https://www.digitaltrends.com/gam...</td>\n",
       "      <td>[\"10099259773819511665735382192011922003121843...</td>\n",
       "      <td>[\"11078326901046011968447681574355317880314753...</td>\n",
       "      <td>a lion on the battlefield</td>\n",
       "    </tr>\n",
       "    <tr>\n",
       "      <th>1</th>\n",
       "      <td>FvsPL</td>\n",
       "      <td>metaphor</td>\n",
       "      <td>[{\"source\": \"https://www.dreamstime.com/photos...</td>\n",
       "      <td>[\"10166014906044208703673588942775925697155165...</td>\n",
       "      <td>[\"10472048254956553018220152788477942861449900...</td>\n",
       "      <td>a mighty lion</td>\n",
       "    </tr>\n",
       "    <tr>\n",
       "      <th>2</th>\n",
       "      <td>FvsPL</td>\n",
       "      <td>metaphor</td>\n",
       "      <td>[{\"source\": \"https://unsplash.com/s/photos/nig...</td>\n",
       "      <td>[\"10238828137439183291164181490873662971856351...</td>\n",
       "      <td>[\"10441871388007842228188677322605006948277838...</td>\n",
       "      <td>a night owl</td>\n",
       "    </tr>\n",
       "    <tr>\n",
       "      <th>3</th>\n",
       "      <td>FvsPL</td>\n",
       "      <td>metaphor</td>\n",
       "      <td>[{\"source\": \"https://solarsystem.nasa.gov/moon...</td>\n",
       "      <td>[\"10225631305623393414613139653908189397782521...</td>\n",
       "      <td>[\"10975358208463655666118304845299235749355170...</td>\n",
       "      <td>a shinning star</td>\n",
       "    </tr>\n",
       "    <tr>\n",
       "      <th>4</th>\n",
       "      <td>FvsPL</td>\n",
       "      <td>metaphor</td>\n",
       "      <td>[{\"source\": \"https://www.istockphoto.com/photo...</td>\n",
       "      <td>[\"13412256301354044503872943123661426267175623...</td>\n",
       "      <td>[\"11009120221646905702971515855412252245336570...</td>\n",
       "      <td>blanket of bullets</td>\n",
       "    </tr>\n",
       "  </tbody>\n",
       "</table>\n",
       "</div>"
      ],
      "text/plain": [
       "    type figurative_type                                    images_metadata  \\\n",
       "0  FvsPL        metaphor  [{\"source\": \"https://www.digitaltrends.com/gam...   \n",
       "1  FvsPL        metaphor  [{\"source\": \"https://www.dreamstime.com/photos...   \n",
       "2  FvsPL        metaphor  [{\"source\": \"https://unsplash.com/s/photos/nig...   \n",
       "3  FvsPL        metaphor  [{\"source\": \"https://solarsystem.nasa.gov/moon...   \n",
       "4  FvsPL        metaphor  [{\"source\": \"https://www.istockphoto.com/photo...   \n",
       "\n",
       "                                      first_category  \\\n",
       "0  [\"10099259773819511665735382192011922003121843...   \n",
       "1  [\"10166014906044208703673588942775925697155165...   \n",
       "2  [\"10238828137439183291164181490873662971856351...   \n",
       "3  [\"10225631305623393414613139653908189397782521...   \n",
       "4  [\"13412256301354044503872943123661426267175623...   \n",
       "\n",
       "                                     second_category  \\\n",
       "0  [\"11078326901046011968447681574355317880314753...   \n",
       "1  [\"10472048254956553018220152788477942861449900...   \n",
       "2  [\"10441871388007842228188677322605006948277838...   \n",
       "3  [\"10975358208463655666118304845299235749355170...   \n",
       "4  [\"11009120221646905702971515855412252245336570...   \n",
       "\n",
       "                      phrase  \n",
       "0  a lion on the battlefield  \n",
       "1              a mighty lion  \n",
       "2                a night owl  \n",
       "3            a shinning star  \n",
       "4         blanket of bullets  "
      ]
     },
     "execution_count": 7,
     "metadata": {},
     "output_type": "execute_result"
    }
   ],
   "source": [
    "pd.DataFrame(IRFL_metaphor_retrieval_task).head()"
   ]
  },
  {
   "cell_type": "code",
   "execution_count": 8,
   "metadata": {},
   "outputs": [
    {
     "name": "stderr",
     "output_type": "stream",
     "text": [
      "/home/gusfilvi@GU.GU.SE/.conda/envs/AICS/lib/python3.12/site-packages/torchvision/models/_utils.py:208: UserWarning: The parameter 'pretrained' is deprecated since 0.13 and may be removed in the future, please use 'weights' instead.\n",
      "  warnings.warn(\n",
      "/home/gusfilvi@GU.GU.SE/.conda/envs/AICS/lib/python3.12/site-packages/torchvision/models/_utils.py:223: UserWarning: Arguments other than a weight enum or `None` for 'weights' are deprecated since 0.13 and may be removed in the future. The current behavior is equivalent to passing `weights=ResNet50_Weights.IMAGENET1K_V1`. You can also use `weights=ResNet50_Weights.DEFAULT` to get the most up-to-date weights.\n",
      "  warnings.warn(msg)\n"
     ]
    }
   ],
   "source": [
    "import torch\n",
    "import torch.nn as nn\n",
    "from torch.utils.data import Dataset, DataLoader\n",
    "\n",
    "import matplotlib.pyplot as plt\n",
    "import torchvision.transforms as transforms\n",
    "import torchvision\n",
    "\n",
    "from transformers import BertTokenizer, VisualBertModel\n",
    "\n",
    "import pandas as pd\n",
    "import numpy\n",
    "import ast, os\n",
    "\n",
    "tokenizer = BertTokenizer.from_pretrained(\"bert-base-uncased\")\n",
    "\n",
    "detector = torchvision.models.resnet50(pretrained=True)\n",
    "detector = torch.nn.Sequential(*list(detector.children())[:-1])\n",
    "detector.eval()\n",
    "\n",
    "batch_size = 128\n",
    "device = torch.device('cuda:1')"
   ]
  },
  {
   "cell_type": "code",
   "execution_count": 9,
   "metadata": {},
   "outputs": [],
   "source": [
    "import ast \n",
    "\n",
    "def get_data(task_name):\n",
    "    figurative_images = [ast.literal_eval(image_list) for image_list in task_name['first_category']]\n",
    "    partial_literal_images = [ast.literal_eval(image_list) for image_list in task_name['second_category']]\n",
    "    phrases = task_name['phrase']\n",
    "\n",
    "    figurative_dictionary = []\n",
    "    for idx, element in enumerate(figurative_images):\n",
    "        for image in element:\n",
    "            dictionary = {'phrase': phrases[idx], 'image': image, 'type': 'figurative'}\n",
    "            figurative_dictionary.append(dictionary)\n",
    "        \n",
    "    for idx, element in enumerate(partial_literal_images):\n",
    "        for image in element:\n",
    "            dictionary = {'phrase': phrases[idx], 'image': image, 'type': 'partial literal'}\n",
    "            figurative_dictionary.append(dictionary)\n",
    "    \n",
    "    return figurative_dictionary\n",
    "\n",
    "metaphor_data = get_data(IRFL_metaphor_retrieval_task)\n",
    "idiom_data = get_data(IRFL_idiom_retrieval_task)\n",
    "simile_data = get_data(IRFL_simile_retrieval_task)"
   ]
  },
  {
   "cell_type": "code",
   "execution_count": 10,
   "metadata": {},
   "outputs": [],
   "source": [
    "def create_data_table(dictionary_list, data_kind):\n",
    "    column_names=[\"phrase\", \"image\", \"type\"]\n",
    "    \n",
    "    df = pd.DataFrame(dictionary_list, columns=column_names)\n",
    "    filepath =  'data/' + data_kind + '.csv'\n",
    "    file = df.to_csv(filepath, index=False)\n",
    "\n",
    "create_data_table(metaphor_data, \"metaphor_data\")\n",
    "create_data_table(idiom_data, \"idiom_data\")\n",
    "create_data_table(simile_data, \"simile_data\")\n"
   ]
  },
  {
   "cell_type": "code",
   "execution_count": 11,
   "metadata": {},
   "outputs": [
    {
     "data": {
      "text/html": [
       "<div>\n",
       "<style scoped>\n",
       "    .dataframe tbody tr th:only-of-type {\n",
       "        vertical-align: middle;\n",
       "    }\n",
       "\n",
       "    .dataframe tbody tr th {\n",
       "        vertical-align: top;\n",
       "    }\n",
       "\n",
       "    .dataframe thead th {\n",
       "        text-align: right;\n",
       "    }\n",
       "</style>\n",
       "<table border=\"1\" class=\"dataframe\">\n",
       "  <thead>\n",
       "    <tr style=\"text-align: right;\">\n",
       "      <th></th>\n",
       "      <th>phrase</th>\n",
       "      <th>image</th>\n",
       "      <th>type</th>\n",
       "    </tr>\n",
       "  </thead>\n",
       "  <tbody>\n",
       "    <tr>\n",
       "      <th>0</th>\n",
       "      <td>a lion on the battlefield</td>\n",
       "      <td>1009925977381951166573538219201192200312184397...</td>\n",
       "      <td>figurative</td>\n",
       "    </tr>\n",
       "    <tr>\n",
       "      <th>1</th>\n",
       "      <td>a lion on the battlefield</td>\n",
       "      <td>1110158887118147260462183682336548897929003447...</td>\n",
       "      <td>figurative</td>\n",
       "    </tr>\n",
       "    <tr>\n",
       "      <th>2</th>\n",
       "      <td>a lion on the battlefield</td>\n",
       "      <td>1150022408148171978092024654350648179128902573...</td>\n",
       "      <td>figurative</td>\n",
       "    </tr>\n",
       "    <tr>\n",
       "      <th>3</th>\n",
       "      <td>a lion on the battlefield</td>\n",
       "      <td>4334616426942719694991676075800911426738633635...</td>\n",
       "      <td>figurative</td>\n",
       "    </tr>\n",
       "    <tr>\n",
       "      <th>4</th>\n",
       "      <td>a lion on the battlefield</td>\n",
       "      <td>6641158141547602068103775945956449252322278422...</td>\n",
       "      <td>figurative</td>\n",
       "    </tr>\n",
       "  </tbody>\n",
       "</table>\n",
       "</div>"
      ],
      "text/plain": [
       "                      phrase  \\\n",
       "0  a lion on the battlefield   \n",
       "1  a lion on the battlefield   \n",
       "2  a lion on the battlefield   \n",
       "3  a lion on the battlefield   \n",
       "4  a lion on the battlefield   \n",
       "\n",
       "                                               image        type  \n",
       "0  1009925977381951166573538219201192200312184397...  figurative  \n",
       "1  1110158887118147260462183682336548897929003447...  figurative  \n",
       "2  1150022408148171978092024654350648179128902573...  figurative  \n",
       "3  4334616426942719694991676075800911426738633635...  figurative  \n",
       "4  6641158141547602068103775945956449252322278422...  figurative  "
      ]
     },
     "execution_count": 11,
     "metadata": {},
     "output_type": "execute_result"
    }
   ],
   "source": [
    "df = pd.read_csv('data/metaphor_data.csv')\n",
    "df.head()"
   ]
  },
  {
   "cell_type": "code",
   "execution_count": 12,
   "metadata": {},
   "outputs": [],
   "source": [
    "def get_features(image):\n",
    "    vis_embeddings = detector(image.unsqueeze(0))\n",
    "    return vis_embeddings\n",
    "\n",
    "class Multimodal_Dataset(Dataset):\n",
    "    def __init__(self, data, tokenizer):\n",
    "        data = pd.read_csv(data)\n",
    "        self.phrases = data['phrase']\n",
    "        self.images = data['image']\n",
    "        self.labels = data['type']\n",
    "\n",
    "        transform_list = [\n",
    "            transforms.Resize((224, 224)),\n",
    "            transforms.ToTensor(),\n",
    "        ]\n",
    "        self.transform = transforms.Compose(transform_list)\n",
    "\n",
    "    def __len__(self):\n",
    "        return len(self.phrases)\n",
    "\n",
    "    def __getitem__(self, idx):\n",
    "        \n",
    "        encodings = tokenizer.encode_plus(self.phrases[idx], add_special_tokens=True, max_length=12, padding='max_length', truncation=True, return_tensors='pt')\n",
    "\n",
    "        image = self.images[idx]\n",
    "\n",
    "        label = 0 if self.labels[idx] == 'figurative' else 1\n",
    "\n",
    "        img = get_image(image)\n",
    "        img = img.convert('RGB')\n",
    "        img = self.transform(img)\n",
    "        \n",
    "        embeddings = get_features(img)\n",
    "\n",
    "        item = {'phrase': self.phrases[idx], 'input_ids': encodings['input_ids'], 'attn_mask': encodings['attention_mask'], 'token_type_ids': encodings['token_type_ids'], 'visual_embeddings': embeddings, 'type': label}\n",
    "        return item"
   ]
  },
  {
   "cell_type": "code",
   "execution_count": 13,
   "metadata": {},
   "outputs": [
    {
     "name": "stdout",
     "output_type": "stream",
     "text": [
      "torch.Size([128, 1, 2048, 1, 1])\n"
     ]
    }
   ],
   "source": [
    "dataset = Multimodal_Dataset('data/simile_data.csv', tokenizer)\n",
    "dataloader = DataLoader(dataset, batch_size=batch_size, shuffle=True)\n",
    "\n",
    "for batch in dataloader:\n",
    "    ids = batch['visual_embeddings']\n",
    "    print(ids.size())\n",
    "    break"
   ]
  },
  {
   "cell_type": "code",
   "execution_count": 14,
   "metadata": {},
   "outputs": [],
   "source": [
    "class VISUAL_BERT(nn.Module):\n",
    "    def __init__(self):\n",
    "        super(VISUAL_BERT, self).__init__()\n",
    "        self.visual_bert = VisualBertModel.from_pretrained(\"uclanlp/visualbert-vqa-coco-pre\")\n",
    "        self.classifier = nn.Linear(self.visual_bert.config.hidden_size, 2)\n",
    "\n",
    "    def forward(self, input_ids, attn_masks, token_type_ids, visual_embeddings):\n",
    "        \n",
    "        visual_token_type_ids = torch.ones(visual_embeddings.shape[:-1], dtype=torch.long).to(device)\n",
    "        visual_attention_mask = torch.ones(visual_embeddings.shape[:-1], dtype=torch.float).to(device)\n",
    "        \n",
    "        outputs = self.visual_bert(input_ids=input_ids, attention_mask=attn_masks, token_type_ids=token_type_ids, visual_embeds=visual_embeddings, visual_attention_mask=visual_attention_mask, visual_token_type_ids=visual_token_type_ids)\n",
    "        predictions = self.classifier(outputs.last_hidden_state[:, 0, :])\n",
    "\n",
    "        return predictions"
   ]
  },
  {
   "cell_type": "code",
   "execution_count": 15,
   "metadata": {},
   "outputs": [
    {
     "name": "stderr",
     "output_type": "stream",
     "text": [
      "100%|██████████| 35/35 [05:28<00:00,  9.39s/it]"
     ]
    },
    {
     "name": "stdout",
     "output_type": "stream",
     "text": [
      "Average Loss: 0.8294984085219247\n"
     ]
    },
    {
     "name": "stderr",
     "output_type": "stream",
     "text": [
      "\n"
     ]
    }
   ],
   "source": [
    "model = VISUAL_BERT().to(device)\n",
    "model.eval()\n",
    "\n",
    "loss_fn = nn.CrossEntropyLoss()\n",
    "optimizer = torch.optim.Adam(model.parameters(), lr=0.001)\n",
    "\n",
    "total_loss = 0\n",
    "predictions_visual = []\n",
    "gold_labels_visual = []\n",
    "losses = []\n",
    "\n",
    "with torch.no_grad():\n",
    "    for batch in tqdm(dataloader):\n",
    "        input_ids = torch.Tensor(batch['input_ids']).long().to(device)\n",
    "        \n",
    "        attn_masks = torch.Tensor(batch['attn_mask']).float().to(device)\n",
    "        token_type_ids = torch.Tensor(batch['token_type_ids']).long().to(device)\n",
    "        \n",
    "        visual_embeddings = torch.Tensor(batch['visual_embeddings']).float().to(device)\n",
    "        visual_embeddings = visual_embeddings.squeeze(3)\n",
    "        visual_embeddings = visual_embeddings.squeeze(3).to(device)\n",
    "        # print(input_ids.squeeze().size())\n",
    "        # print(visual_embeddings.size())\n",
    "        # print(attn_masks.size())\n",
    "        # print(token_type_ids.size())\n",
    "        gold_label = batch['type'].to(device)\n",
    "\n",
    "        outputs = model(input_ids.squeeze(1), attn_masks.squeeze(1), token_type_ids.squeeze(1), visual_embeddings)\n",
    "\n",
    "        gold_labels_visual.extend(gold_label.cpu().numpy())\n",
    "        \n",
    "        loss = loss_fn(outputs, gold_label)\n",
    "        losses.append(loss)\n",
    "        total_loss += loss.item()\n",
    "\n",
    "        _, predicted_labels = torch.max(outputs, dim=1)\n",
    "        \n",
    "        predictions_visual.extend(predicted_labels.cpu().numpy())\n",
    "\n",
    "average_loss = total_loss / len(dataloader)\n",
    "print(f'Average Loss: {average_loss}')"
   ]
  },
  {
   "cell_type": "code",
   "execution_count": 16,
   "metadata": {},
   "outputs": [
    {
     "name": "stdout",
     "output_type": "stream",
     "text": [
      "Classification Report:\n",
      "              precision    recall  f1-score   support\n",
      "\n",
      "           0       0.25      1.00      0.40      1107\n",
      "           1       0.00      0.00      0.00      3314\n",
      "\n",
      "    accuracy                           0.25      4421\n",
      "   macro avg       0.13      0.50      0.20      4421\n",
      "weighted avg       0.06      0.25      0.10      4421\n",
      "\n"
     ]
    },
    {
     "name": "stderr",
     "output_type": "stream",
     "text": [
      "/home/gusfilvi@GU.GU.SE/.conda/envs/AICS/lib/python3.12/site-packages/sklearn/metrics/_classification.py:1509: UndefinedMetricWarning: Precision is ill-defined and being set to 0.0 in labels with no predicted samples. Use `zero_division` parameter to control this behavior.\n",
      "  _warn_prf(average, modifier, f\"{metric.capitalize()} is\", len(result))\n",
      "/home/gusfilvi@GU.GU.SE/.conda/envs/AICS/lib/python3.12/site-packages/sklearn/metrics/_classification.py:1509: UndefinedMetricWarning: Precision is ill-defined and being set to 0.0 in labels with no predicted samples. Use `zero_division` parameter to control this behavior.\n",
      "  _warn_prf(average, modifier, f\"{metric.capitalize()} is\", len(result))\n",
      "/home/gusfilvi@GU.GU.SE/.conda/envs/AICS/lib/python3.12/site-packages/sklearn/metrics/_classification.py:1509: UndefinedMetricWarning: Precision is ill-defined and being set to 0.0 in labels with no predicted samples. Use `zero_division` parameter to control this behavior.\n",
      "  _warn_prf(average, modifier, f\"{metric.capitalize()} is\", len(result))\n"
     ]
    }
   ],
   "source": [
    "from sklearn.metrics import classification_report\n",
    "\n",
    "report = classification_report(gold_labels_visual, predictions_visual)\n",
    "\n",
    "print(\"Classification Report:\")\n",
    "print(report)"
   ]
  },
  {
   "cell_type": "code",
   "execution_count": 28,
   "metadata": {},
   "outputs": [
    {
     "name": "stdout",
     "output_type": "stream",
     "text": [
      "total words: 2214\n",
      "total randomized words: 2214\n",
      "total training set: 1771\n",
      "total testing set: 443\n"
     ]
    }
   ],
   "source": [
    "def split_dataset(csv_file):\n",
    "    \n",
    "    file = pd.read_csv(csv_file)\n",
    "    \n",
    "    print(\"total words:\",len(file))\n",
    "    randomized_data = file.sample(frac=1, random_state=42)\n",
    "    print(\"total randomized words:\",len(randomized_data))\n",
    "\n",
    "    train = int(len(randomized_data) * 0.8)\n",
    "\n",
    "    train_data = randomized_data[:train]\n",
    "    print(\"total training set:\",len(train_data))\n",
    "\n",
    "    test_data = randomized_data[train:]\n",
    "    print(\"total testing set:\",len(test_data))\n",
    "\n",
    "    train_filepath = \"data/train_dataset.csv\"\n",
    "    test_filepath = \"data/test_dataset.csv\"\n",
    "    train_data.to_csv(train_filepath, index=False)\n",
    "    test_data.to_csv(test_filepath, index=False)\n",
    "\n",
    "split_dataset('data/balanced_dataset.csv')"
   ]
  },
  {
   "cell_type": "code",
   "execution_count": 29,
   "metadata": {},
   "outputs": [],
   "source": [
    "train_data = Multimodal_Dataset('data/train_dataset.csv', tokenizer=tokenizer)\n",
    "test_data = Multimodal_Dataset('data/test_dataset.csv', tokenizer=tokenizer)"
   ]
  },
  {
   "cell_type": "code",
   "execution_count": 19,
   "metadata": {},
   "outputs": [],
   "source": [
    "def count_instances(csv_path):\n",
    "    df = pd.read_csv(csv_path)\n",
    "    figurative = 0\n",
    "    partial_literal = 0\n",
    "    for label in df['type'].to_list():\n",
    "        if label == 'figurative':\n",
    "            figurative += 1\n",
    "        else:\n",
    "            partial_literal += 1\n",
    "\n",
    "    print(' Number of figurative instances:', figurative, '\\n','Number of partial literal instances:', partial_literal)"
   ]
  },
  {
   "cell_type": "code",
   "execution_count": 30,
   "metadata": {},
   "outputs": [
    {
     "name": "stdout",
     "output_type": "stream",
     "text": [
      " Number of figurative instances: 894 \n",
      " Number of partial literal instances: 877\n"
     ]
    }
   ],
   "source": [
    "count_instances('data/train_dataset.csv')"
   ]
  },
  {
   "cell_type": "code",
   "execution_count": 26,
   "metadata": {},
   "outputs": [],
   "source": [
    "def balance_data(csv_file):\n",
    "    df = pd.read_csv(csv_file)\n",
    "    figurative = df.head(1107)\n",
    "    literal = df.tail(1107)\n",
    "    balanced_dataset = pd.concat([figurative, literal])\n",
    "    balanced_dataset.to_csv('data/balanced_dataset.csv', index=False)\n",
    "\n",
    "balance_data('data/simile_data.csv')"
   ]
  },
  {
   "cell_type": "code",
   "execution_count": 31,
   "metadata": {},
   "outputs": [],
   "source": [
    "train_dataloader = DataLoader(train_data, batch_size=batch_size, shuffle=True)\n",
    "test_dataloader = DataLoader(test_data, batch_size=batch_size, shuffle=False)"
   ]
  },
  {
   "cell_type": "code",
   "execution_count": 32,
   "metadata": {},
   "outputs": [
    {
     "name": "stdout",
     "output_type": "stream",
     "text": [
      "epoch: 1 loss: 0.6983288483960288\r"
     ]
    }
   ],
   "source": [
    "language_and_vision_model = VISUAL_BERT().to(device)\n",
    "epochs = 2\n",
    "\n",
    "loss_fn = nn.CrossEntropyLoss()\n",
    "optimizer = torch.optim.Adam(language_and_vision_model.parameters(), lr=0.001)\n",
    "\n",
    "language_and_vision_model.train()\n",
    "\n",
    "losses_train = []\n",
    "    \n",
    "for epoch in range(epochs):\n",
    "    total_loss = 0\n",
    "    for i, batch in enumerate(train_dataloader):\n",
    "        input_ids = torch.LongTensor(batch['input_ids']).to(device)\n",
    "        attn_masks = torch.Tensor(batch['attn_mask']).float().to(device)\n",
    "        #print(type(attn_masks))\n",
    "        token_type_ids = torch.LongTensor(batch['token_type_ids']).to(device)\n",
    "        \n",
    "        visual_embeddings = torch.FloatTensor(batch['visual_embeddings']).to(device)\n",
    "        \n",
    "        visual_embeddings = visual_embeddings.squeeze(3)\n",
    "        visual_embeddings = visual_embeddings.squeeze(3)\n",
    "        \n",
    "        gold_label = batch['type'].to(device)\n",
    "    \n",
    "        outputs = language_and_vision_model(input_ids.squeeze(), attn_masks.squeeze(), token_type_ids.squeeze(), visual_embeddings)\n",
    "\n",
    "        loss = loss_fn(outputs, gold_label)\n",
    "        losses_train.append(loss.detach().cpu().numpy())\n",
    "        total_loss += loss.item()\n",
    "\n",
    "        print(\"epoch:\",epoch, \"loss:\", total_loss/(i+1), end='\\r')\n",
    "\n",
    "        loss.backward()\n",
    "\n",
    "        optimizer.step()\n",
    "\n",
    "        optimizer.zero_grad()"
   ]
  },
  {
   "cell_type": "code",
   "execution_count": 33,
   "metadata": {},
   "outputs": [
    {
     "data": {
      "text/plain": [
       "[<matplotlib.lines.Line2D at 0x7f05b4c86c90>]"
      ]
     },
     "execution_count": 33,
     "metadata": {},
     "output_type": "execute_result"
    },
    {
     "data": {
      "image/png": "[encoded data removed]",
      "text/plain": [
       "<Figure size 640x480 with 1 Axes>"
      ]
     },
     "metadata": {},
     "output_type": "display_data"
    }
   ],
   "source": [
    "plt.plot(losses_train)"
   ]
  },
  {
   "cell_type": "code",
   "execution_count": 34,
   "metadata": {},
   "outputs": [
    {
     "name": "stderr",
     "output_type": "stream",
     "text": [
      "100%|██████████| 4/4 [00:40<00:00, 10.20s/it]\n"
     ]
    }
   ],
   "source": [
    "language_and_vision_model.eval()\n",
    "\n",
    "gold_labels = []\n",
    "predictions = []\n",
    "\n",
    "with torch.no_grad():\n",
    "    for batch in tqdm(test_dataloader):\n",
    "        input_ids = torch.LongTensor(batch['input_ids']).to(device)\n",
    "        attn_masks = torch.Tensor(batch['attn_mask']).float().to(device)\n",
    "        token_type_ids = torch.LongTensor(batch['token_type_ids']).to(device)\n",
    "        \n",
    "        visual_embeddings = torch.FloatTensor(batch['visual_embeddings']).to(device)\n",
    "        visual_embeddings = visual_embeddings.squeeze(3)\n",
    "        visual_embeddings = visual_embeddings.squeeze(3)\n",
    "        # print(input_ids.size())\n",
    "        # print(visual_embeddings.size())\n",
    "        # print(attn_masks.size())\n",
    "        # print(token_type_ids.size())\n",
    "        gold_label = batch['type'].to(device)\n",
    "\n",
    "        outputs = language_and_vision_model(input_ids.squeeze(), attn_masks.squeeze(), token_type_ids.squeeze(), visual_embeddings)\n",
    "\n",
    "        gold_labels.extend(gold_label.cpu().numpy())\n",
    "\n",
    "        _, predicted_labels = torch.max(outputs, dim=1)\n",
    "        \n",
    "        predictions.extend(predicted_labels.cpu().numpy())\n",
    "\n",
    "gold_labels = numpy.array(gold_labels)\n",
    "predictions = numpy.array(predictions)"
   ]
  },
  {
   "cell_type": "code",
   "execution_count": 35,
   "metadata": {},
   "outputs": [
    {
     "name": "stdout",
     "output_type": "stream",
     "text": [
      "Classification Report:\n",
      "              precision    recall  f1-score   support\n",
      "\n",
      "           0       0.00      0.00      0.00       213\n",
      "           1       0.52      1.00      0.68       230\n",
      "\n",
      "    accuracy                           0.52       443\n",
      "   macro avg       0.26      0.50      0.34       443\n",
      "weighted avg       0.27      0.52      0.35       443\n",
      "\n"
     ]
    },
    {
     "name": "stderr",
     "output_type": "stream",
     "text": [
      "/home/gusfilvi@GU.GU.SE/.conda/envs/AICS/lib/python3.12/site-packages/sklearn/metrics/_classification.py:1509: UndefinedMetricWarning: Precision is ill-defined and being set to 0.0 in labels with no predicted samples. Use `zero_division` parameter to control this behavior.\n",
      "  _warn_prf(average, modifier, f\"{metric.capitalize()} is\", len(result))\n",
      "/home/gusfilvi@GU.GU.SE/.conda/envs/AICS/lib/python3.12/site-packages/sklearn/metrics/_classification.py:1509: UndefinedMetricWarning: Precision is ill-defined and being set to 0.0 in labels with no predicted samples. Use `zero_division` parameter to control this behavior.\n",
      "  _warn_prf(average, modifier, f\"{metric.capitalize()} is\", len(result))\n",
      "/home/gusfilvi@GU.GU.SE/.conda/envs/AICS/lib/python3.12/site-packages/sklearn/metrics/_classification.py:1509: UndefinedMetricWarning: Precision is ill-defined and being set to 0.0 in labels with no predicted samples. Use `zero_division` parameter to control this behavior.\n",
      "  _warn_prf(average, modifier, f\"{metric.capitalize()} is\", len(result))\n"
     ]
    }
   ],
   "source": [
    "from sklearn.metrics import classification_report\n",
    "\n",
    "report = classification_report(gold_labels, predictions)\n",
    "\n",
    "print(\"Classification Report:\")\n",
    "print(report)"
   ]
  },
  {
   "cell_type": "code",
   "execution_count": 37,
   "metadata": {},
   "outputs": [
    {
     "name": "stderr",
     "output_type": "stream",
     "text": [
      "Downloading readme: 100%|██████████| 10.5k/10.5k [00:00<00:00, 28.7MB/s]\n",
      "Downloading data: 100%|██████████| 490M/490M [00:28<00:00, 17.2MB/s] \n",
      "Downloading data: 100%|██████████| 464M/464M [00:32<00:00, 14.4MB/s] \n",
      "Downloading data: 100%|██████████| 472M/472M [00:33<00:00, 14.0MB/s] \n",
      "Downloading data: 100%|██████████| 464M/464M [00:29<00:00, 15.7MB/s] \n",
      "Downloading data: 100%|██████████| 475M/475M [00:28<00:00, 16.6MB/s] \n",
      "Downloading data: 100%|██████████| 470M/470M [00:29<00:00, 15.9MB/s] \n",
      "Downloading data: 100%|██████████| 478M/478M [00:28<00:00, 16.5MB/s] \n",
      "Downloading data: 100%|██████████| 486M/486M [00:35<00:00, 13.8MB/s] \n",
      "Downloading data: 100%|██████████| 423M/423M [00:32<00:00, 12.9MB/s] \n",
      "Downloading data: 100%|██████████| 413M/413M [00:29<00:00, 13.9MB/s] \n",
      "Downloading data: 100%|██████████| 426M/426M [00:29<00:00, 14.5MB/s] \n",
      "Generating train split: 100%|██████████| 75750/75750 [17:52<00:00, 70.65 examples/s] \n",
      "Generating validation split: 100%|██████████| 25250/25250 [05:21<00:00, 78.61 examples/s] \n"
     ]
    }
   ],
   "source": [
    "food = load_dataset(\"food101\", split=\"train[:5000]\")"
   ]
  },
  {
   "cell_type": "code",
   "execution_count": 38,
   "metadata": {},
   "outputs": [],
   "source": [
    "food = food.train_test_split(test_size=0.2)"
   ]
  },
  {
   "cell_type": "code",
   "execution_count": 40,
   "metadata": {},
   "outputs": [
    {
     "data": {
      "text/plain": [
       "{'image': <PIL.JpegImagePlugin.JpegImageFile image mode=RGB size=512x511>,\n",
       " 'label': 10}"
      ]
     },
     "execution_count": 40,
     "metadata": {},
     "output_type": "execute_result"
    }
   ],
   "source": [
    "food[\"train\"][1]"
   ]
  },
  {
   "cell_type": "code",
   "execution_count": 41,
   "metadata": {},
   "outputs": [],
   "source": [
    "labels = food[\"train\"].features[\"label\"].names\n",
    "label2id, id2label = dict(), dict()\n",
    "\n",
    "for i, label in enumerate(labels):\n",
    "    label2id[label] = str(i)\n",
    "    id2label[str(i)] = label"
   ]
  }
 ],
 "metadata": {
  "kernelspec": {
   "display_name": "AICS",
   "language": "python",
   "name": "python3"
  },
  "language_info": {
   "codemirror_mode": {
    "name": "ipython",
    "version": 3
   },
   "file_extension": ".py",
   "mimetype": "text/x-python",
   "name": "python",
   "nbconvert_exporter": "python",
   "pygments_lexer": "ipython3",
   "version": "3.12.2"
  }
 },
 "nbformat": 4,
 "nbformat_minor": 4
}
